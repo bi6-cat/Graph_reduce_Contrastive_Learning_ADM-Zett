{
  "nbformat": 4,
  "nbformat_minor": 0,
  "metadata": {
    "colab": {
      "provenance": []
    },
    "kernelspec": {
      "name": "python3",
      "display_name": "Python 3"
    },
    "language_info": {
      "name": "python"
    }
  },
  "cells": [
    {
      "cell_type": "code",
      "execution_count": 2,
      "metadata": {
        "colab": {
          "base_uri": "https://localhost:8080/"
        },
        "id": "4kvg1mezStUd",
        "outputId": "2c7f5e85-d002-4ee9-8b02-aa131635bc64"
      },
      "outputs": [
        {
          "output_type": "stream",
          "name": "stdout",
          "text": [
            "Mounted at /content/mydrive\n"
          ]
        }
      ],
      "source": [
        "from google.colab import drive\n",
        "drive.mount(\"/content/mydrive\")"
      ]
    },
    {
      "cell_type": "code",
      "source": [
        "!ls /content/mydrive/MyDrive/New_Dataset/ApkDataset/Benign | head -n 100 | grep .apk > test_apk.txt\n",
        "!echo \"==============\" >> test_apk.txt\n",
        "!ls /content/mydrive/MyDrive/New_Dataset/ApkDataset/Malware | head -n 100 | grep .apk >> test_apk.txt"
      ],
      "metadata": {
        "id": "Waatp_A1Tit3"
      },
      "execution_count": 10,
      "outputs": []
    },
    {
      "cell_type": "code",
      "source": [
        "%%capture\n",
        "!pip install dgl==1.1.2;\n",
        "!pip install androguard==3.4.0a1;\n",
        "!pip install networkit\n",
        "!pip install loguru"
      ],
      "metadata": {
        "id": "FVCVNx2BZX2g"
      },
      "execution_count": 13,
      "outputs": []
    },
    {
      "cell_type": "code",
      "source": [
        "import sys\n",
        "import traceback\n",
        "from pathlib import Path\n",
        "import dgl\n",
        "import joblib as J\n",
        "import networkx as nx\n",
        "import networkit as nk\n",
        "import torch\n",
        "from androguard.misc import AnalyzeAPK\n",
        "from gensim.models import Word2Vec\n",
        "import traceback\n",
        "import numpy as np\n",
        "import matplotlib.pyplot as plt\n",
        "from loguru import logger\n",
        "\n",
        "fmt = \"[{time}] - [{level}] : {message}\"\n",
        "config = {\n",
        "    \"handlers\": [\n",
        "        {\"sink\": sys.stderr, \"format\": fmt},\n",
        "    ],\n",
        "}\n",
        "logger.configure(**config)\n",
        "\n",
        "def plot(nx_original, nx_pruned):\n",
        "    \"\"\" Plot graph original reflect with pruned graph \"\"\"\n",
        "    fig, axes = plt.subplots(1, 2, figsize=(12, 6))\n",
        "    pos = nx.spring_layout(nx_original)\n",
        "\n",
        "    nx.draw(nx_original, pos, with_labels=False, ax=axes[0], node_color=\"skyblue\", edge_color=\"gray\", node_size=100, font_size=10)\n",
        "    nx.draw_networkx_edge_labels(nx_original, pos, ax=axes[0])\n",
        "    axes[0].set_title(\"Đồ thị ban đầu\")\n",
        "\n",
        "    nx.draw(nx_pruned, pos, with_labels=False, ax=axes[1], node_color=\"lightgreen\", edge_color=\"gray\", node_size=100, font_size=10)\n",
        "    nx.draw_networkx_edge_labels(nx_pruned, pos, ax=axes[1])\n",
        "    axes[1].set_title(\"Đồ thị sau khi cắt tỉa\")\n",
        "\n",
        "    plt.tight_layout()\n",
        "    plt.show()\n",
        "\n",
        "def convert_to_networkit(nx_graph):\n",
        "    \"\"\" function convert from networkx to networkit \"\"\"\n",
        "    node_mapping = {node: i for i, node in enumerate(nx_graph.nodes())}\n",
        "    reverse_mapping = {i: node for node, i in node_mapping.items()}\n",
        "    nk_graph = nk.graph.Graph(weighted=True, directed=nx_graph.is_directed())\n",
        "\n",
        "    for _ in node_mapping.values():\n",
        "        nk_graph.addNode()\n",
        "\n",
        "    for u, v, data in nx_graph.edges(data=True):\n",
        "        weight = data[\"weight\"] if \"weight\" in data else 1.0\n",
        "        nk_graph.addEdge(node_mapping[u], node_mapping[v], weight)\n",
        "    nk_graph.indexEdges()\n",
        "    return nk_graph, reverse_mapping\n",
        "\n",
        "def convert_to_networkx(nk_graph, reverse_mapping):\n",
        "    \"\"\" function convert from networkit to networkx \"\"\"\n",
        "    nx_graph = nx.DiGraph() if nk_graph.isDirected() else nx.Graph()\n",
        "    for u, v, w in nk_graph.iterEdgesWeights():\n",
        "        nx_graph.add_edge(reverse_mapping[u], reverse_mapping[v], weight=w)\n",
        "    return nx_graph\n",
        "\n",
        "\n",
        "def prune_graph_local_degree(g):\n",
        "    targetRatio = 0.2\n",
        "    nk_graph, reverse_mapping = convert_to_networkit(g)\n",
        "    logger.info(f\"Before prune: {nk_graph.numberOfNodes()} nodes - {nk_graph.numberOfEdges()} edges\")\n",
        "    local_degree = nk.sparsification.LocalDegreeSparsifier()\n",
        "    nk_pruned = local_degree.getSparsifiedGraphOfSize(nk_graph, targetRatio)\n",
        "    logger.info(f\"After pruned: {nk_pruned.numberOfNodes()} nodes - {nk_pruned.numberOfEdges()} edges\")\n",
        "    return convert_to_networkx(nk_pruned, reverse_mapping)\n",
        "\n",
        "def process(source_file: Path, dest_dir: Path):\n",
        "    logger.info(f\"Processing ...\")\n",
        "    try:\n",
        "        file_name = source_file.stem\n",
        "        _, _, dx = AnalyzeAPK(source_file)\n",
        "        cg = dx.get_call_graph()\n",
        "        mappings, mappingsH = {}, {}\n",
        "\n",
        "        nx_original = nx.DiGraph(cg)\n",
        "\n",
        "        # prune graph\n",
        "        G = prune_graph_local_degree(nx_original)\n",
        "        # plot(nx_original, G)\n",
        "\n",
        "        katz = nx.katz_centrality(G)\n",
        "        closeness = nx.closeness_centrality(G)\n",
        "        clustering = nx.clustering(G)\n",
        "        sentences = []\n",
        "\n",
        "        for node in G.nodes():\n",
        "            mappings[node] = [G.in_degree(node),\n",
        "                                           G.out_degree(node),\n",
        "                                           katz[node],\n",
        "                                           closeness[node],\n",
        "                                           clustering[node]]\n",
        "            sentences.append([node.class_name, node.method.name])\n",
        "\n",
        "        model = Word2Vec(sentences=sentences, vector_size=100, min_count=1)\n",
        "\n",
        "        for node in G.nodes():\n",
        "            mappingsH[node] =  torch.tensor(np.average(model.wv[[node.class_name, node.method.name]], axis=0))\n",
        "\n",
        "        nx.set_node_attributes(G, mappings, 'features')\n",
        "        nx.set_node_attributes(G, mappingsH, 'featuresH')\n",
        "\n",
        "        G = nx.convert_node_labels_to_integers(G)\n",
        "        dg = dgl.from_networkx(G, node_attrs=['features', 'featuresH'])\n",
        "        dest_dir = dest_dir / f'{file_name}.fcg'\n",
        "        dgl.data.utils.save_graphs(str(dest_dir), [dg])\n",
        "        print(f\"Processed {source_file}\")\n",
        "\n",
        "    except:\n",
        "        print(f\"Error while processing {source_file}\")\n",
        "        traceback.print_exception(*sys.exc_info())\n",
        "        return"
      ],
      "metadata": {
        "id": "QVY-lAfDZgmS"
      },
      "execution_count": 14,
      "outputs": []
    },
    {
      "cell_type": "code",
      "source": [
        "path_benign = \"/content/mydrive/MyDrive/New_Dataset/ApkDataset/Benign/\"\n",
        "path_malware = \"/content/mydrive/MyDrive/New_Dataset/ApkDataset/Malware/\"\n",
        "\n",
        "sample_bengin = \"0000049D8911607971A3336DE5CF36F4799D679D6BB9EF014CBFE73578A6E3EA.apk\"\n",
        "sample_malware = \"0022A484CA5D219B98AA3EFBCCC9D7347E092FD847F9FBF58A93D67C124BFE4F.apk\"\n",
        "\n",
        "# process(Path(path_benign + sample_bengin), \"\")\n",
        "process(Path(path_malware + sample_malware), Path(\"./\"))"
      ],
      "metadata": {
        "colab": {
          "base_uri": "https://localhost:8080/"
        },
        "id": "2qYWVApBaiwS",
        "outputId": "8042ff6a-fb86-4556-df15-9b9eb5bbbb42"
      },
      "execution_count": 15,
      "outputs": [
        {
          "output_type": "stream",
          "name": "stderr",
          "text": [
            "[2025-02-12T15:01:07.148017+0000] - [INFO] : Processing ...\n",
            "[2025-02-12T15:01:30.686877+0000] - [INFO] : Before prune: 17992 nodes - 34294 edges\n",
            "[2025-02-12T15:01:31.450009+0000] - [INFO] : After pruned: 17992 nodes - 18678 edges\n"
          ]
        },
        {
          "output_type": "stream",
          "name": "stdout",
          "text": [
            "Processed /content/mydrive/MyDrive/New_Dataset/ApkDataset/Malware/0022A484CA5D219B98AA3EFBCCC9D7347E092FD847F9FBF58A93D67C124BFE4F.apk\n"
          ]
        }
      ]
    },
    {
      "cell_type": "code",
      "source": [
        "!du -sh \"/content/mydrive/MyDrive/New_Dataset/ApkDataset/Benign/0000049D8911607971A3336DE5CF36F4799D679D6BB9EF014CBFE73578A6E3EA.apk\""
      ],
      "metadata": {
        "colab": {
          "base_uri": "https://localhost:8080/"
        },
        "id": "w2cjLtz1k-au",
        "outputId": "f69906cc-fcd0-491f-c3a1-3ca32b8ff99a"
      },
      "execution_count": 49,
      "outputs": [
        {
          "output_type": "stream",
          "name": "stdout",
          "text": [
            "3.1M\t/content/mydrive/MyDrive/New_Dataset/ApkDataset/Benign/0000049D8911607971A3336DE5CF36F4799D679D6BB9EF014CBFE73578A6E3EA.apk\n"
          ]
        }
      ]
    },
    {
      "cell_type": "code",
      "source": [
        "!du -sh \"/content/mydrive/MyDrive/New_Dataset/ApkDataset/Malware/0022A484CA5D219B98AA3EFBCCC9D7347E092FD847F9FBF58A93D67C124BFE4F.apk\""
      ],
      "metadata": {
        "colab": {
          "base_uri": "https://localhost:8080/"
        },
        "id": "2N40PbsxlE7k",
        "outputId": "05ab59ad-ecd2-43b5-f045-b4e6c42042b5"
      },
      "execution_count": 53,
      "outputs": [
        {
          "output_type": "stream",
          "name": "stdout",
          "text": [
            "2.4M\t/content/mydrive/MyDrive/New_Dataset/ApkDataset/Malware/0022A484CA5D219B98AA3EFBCCC9D7347E092FD847F9FBF58A93D67C124BFE4F.apk\n"
          ]
        }
      ]
    }
  ]
}